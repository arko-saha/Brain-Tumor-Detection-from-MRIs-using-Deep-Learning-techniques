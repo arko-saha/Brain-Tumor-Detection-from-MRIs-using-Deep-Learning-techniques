{
  "cells": [
    {
      "cell_type": "code",
      "execution_count": null,
      "metadata": {
        "id": "n-X8KZPAfM-0",
        "colab": {
          "base_uri": "https://localhost:8080/"
        },
        "outputId": "21bf15cb-534a-4d7e-a082-f060ff480846"
      },
      "outputs": [
        {
          "output_type": "stream",
          "name": "stdout",
          "text": [
            "Drive already mounted at /content/drive; to attempt to forcibly remount, call drive.mount(\"/content/drive\", force_remount=True).\n"
          ]
        }
      ],
      "source": [
        "from google.colab import drive\n",
        "drive.mount('/content/drive')"
      ]
    },
    {
      "cell_type": "code",
      "execution_count": null,
      "metadata": {
        "id": "ea0WfEUHfN9K"
      },
      "outputs": [],
      "source": [
        "import os\n",
        "from sklearn.utils import shuffle\n",
        "\n",
        "train_dir = '/content/drive/MyDrive/Colab Notebooks/Deep Learning Applications/Training'\n",
        "test_dir = '/content/drive/MyDrive/Colab Notebooks/Deep Learning Applications/Testing'\n",
        "\n",
        "train_paths = []\n",
        "train_labels = []\n",
        "\n",
        "for label in os.listdir(train_dir):\n",
        "    for image in os.listdir(train_dir+'/'+label):\n",
        "        train_paths.append(train_dir+'/'+label+'/'+image)\n",
        "        train_labels.append(label)\n",
        "\n",
        "train_paths, train_labels = shuffle(train_paths, train_labels)\n",
        "\n",
        "test_paths = []\n",
        "test_labels = []\n",
        "\n",
        "for label in os.listdir(test_dir):\n",
        "    for image in os.listdir(test_dir+'/'+label):\n",
        "        test_paths.append(test_dir+'/'+label+'/'+image)\n",
        "        test_labels.append(label)\n",
        "\n",
        "test_paths, test_labels = shuffle(test_paths, test_labels)"
      ]
    },
    {
      "cell_type": "code",
      "execution_count": null,
      "metadata": {
        "id": "2mRAxU9RqRe4",
        "colab": {
          "base_uri": "https://localhost:8080/"
        },
        "outputId": "e83ba880-fa81-4a03-c328-113da2c68a23"
      },
      "outputs": [
        {
          "output_type": "stream",
          "name": "stdout",
          "text": [
            "(5712, 128, 128, 3)\n",
            "(5712,)\n"
          ]
        }
      ],
      "source": [
        "import cv2\n",
        "from PIL import Image\n",
        "import numpy as np\n",
        "import os\n",
        "\n",
        "df = []\n",
        "label = []\n",
        "img_size = 128\n",
        "\n",
        "for label_name in os.listdir(train_dir):\n",
        "    label_dir = os.path.join(train_dir, label_name)\n",
        "    for img_name in os.listdir(label_dir):\n",
        "        if os.path.splitext(img_name)[1] == '.jpg':\n",
        "            image = cv2.imread(os.path.join(label_dir, img_name))\n",
        "            # image = cv2.cvtColor(image, cv2.COLOR_BGR2GRAY)\n",
        "            image = Image.fromarray(image)\n",
        "            image = image.resize((img_size,img_size))\n",
        "            df.append(np.array(image))\n",
        "            label.append(label_name)\n",
        "\n",
        "df = np.array(df)\n",
        "label = np.array(label)\n",
        "\n",
        "print(df.shape)\n",
        "print(label.shape)"
      ]
    },
    {
      "cell_type": "code",
      "execution_count": null,
      "metadata": {
        "id": "sRbzJmPjlTGQ"
      },
      "outputs": [],
      "source": [
        "from sklearn.model_selection import train_test_split\n",
        "\n",
        "X_train, X_test, y_train, y_test = train_test_split(df, label, test_size=0.2, random_state=42)"
      ]
    },
    {
      "cell_type": "code",
      "execution_count": null,
      "metadata": {
        "id": "PJZm3Boip4Oh"
      },
      "outputs": [],
      "source": [
        "import tensorflow as tf\n",
        "from tensorflow import keras\n",
        "from keras.utils import normalize\n",
        "\n",
        "X_train_normalized = normalize(X_train, axis=1)\n",
        "X_test_normalized = normalize(X_test, axis=1)"
      ]
    },
    {
      "cell_type": "code",
      "execution_count": null,
      "metadata": {
        "id": "_7wJdJUgySVp"
      },
      "outputs": [],
      "source": [
        "# mapping the class label\n",
        "\n",
        "from sklearn.preprocessing import OneHotEncoder\n",
        "\n",
        "ohe = OneHotEncoder()\n",
        "y_train_encoded = ohe.fit_transform(y_train.reshape(-1,1)).toarray()\n",
        "y_test_encoded = ohe.fit_transform(y_test.reshape(-1,1)).toarray()"
      ]
    },
    {
      "cell_type": "markdown",
      "metadata": {
        "id": "rlmbxfsB-wmc"
      },
      "source": [
        "# Ensemble Model\n"
      ]
    },
    {
      "cell_type": "code",
      "execution_count": null,
      "metadata": {
        "id": "McvS4yGGrk8i"
      },
      "outputs": [],
      "source": [
        "from keras.models import Sequential\n",
        "from keras.layers import Dense, Conv2D, MaxPool2D, Dropout, Flatten\n",
        "from keras.optimizers import Adam\n",
        "\n",
        "class MyModel1:\n",
        "    def __init__(self, layer_1, layer_2, layer_3, layer_4, learning_rate=0.0001, activation='relu'):\n",
        "      super(MyModel1, self).__init__()\n",
        "      self.layer_1 = layer_1\n",
        "      self.layer_2 = layer_2\n",
        "      self.layer_3 = layer_3\n",
        "      self.layer_4 = layer_4\n",
        "      self.learning_rate = learning_rate\n",
        "      self.activation = activation\n",
        "      self.model = self._build_model()\n",
        "\n",
        "    def _build_model(self):\n",
        "      tf.random.set_seed(42)\n",
        "      model = tf.keras.models.Sequential([\n",
        "          tf.keras.layers.Flatten(input_shape=(img_size, img_size, 3)),\n",
        "          tf.keras.layers.Dense(self.layer_1, activation=self.activation),\n",
        "          tf.keras.layers.Dense(self.layer_2, activation=self.activation),\n",
        "          tf.keras.layers.Dense(self.layer_3, activation=self.activation),\n",
        "          tf.keras.layers.Dense(self.layer_4, activation=self.activation),\n",
        "          tf.keras.layers.Dense(4, activation='softmax')\n",
        "          ])\n",
        "        \n",
        "      model.compile(\n",
        "            optimizer=tf.keras.optimizers.Adam(self.learning_rate),\n",
        "            loss=tf.keras.losses.CategoricalCrossentropy(from_logits=False),\n",
        "            metrics=[tf.keras.metrics.CategoricalAccuracy()],\n",
        "            )\n",
        "      return model\n",
        "\n",
        "    def train_model(self, X_train_normalized, y_train_encoded, epochs=15):\n",
        "      self.model.fit(\n",
        "          x=X_train_normalized,\n",
        "          y=y_train_encoded,\n",
        "          epochs=epochs,\n",
        "          )\n",
        "      \n",
        "    def evaluate(self, X_test_normalized, y_test_encoded):\n",
        "      return self.model.evaluate(X_test_normalized, y_test_encoded, verbose=0)\n",
        "\n",
        "    def summary(self):\n",
        "      return self.model.summary()\n",
        "\n",
        "    def save_model(self, path):\n",
        "      self.model.save(path)\n",
        "\n",
        "    def predict_on_batch(self, x):\n",
        "      return self.model.predict_on_batch(x)"
      ]
    },
    {
      "cell_type": "code",
      "source": [
        "class EnsembleModel:\n",
        "    def __init__(self):\n",
        "        self.models = []\n",
        "\n",
        "    def add_model(self, model):\n",
        "        self.models.append(model)\n",
        "\n",
        "    def predict_on_batch(self, x):\n",
        "        preds = [model.predict_on_batch(x) for model in self.models]\n",
        "        return np.mean(preds, axis=0)\n",
        "\n",
        "    def save_model(self, path):\n",
        "        models_path = []\n",
        "        for i, model in enumerate(self.models):\n",
        "            model_path = f'{path}_{i}.h5'\n",
        "            model.save(model_path)\n",
        "            models_path.append(model_path)\n",
        "        with open(f'{path}.json', 'w') as f:\n",
        "            json.dump(models_path, f)"
      ],
      "metadata": {
        "id": "FTkEKVmCGXWm"
      },
      "execution_count": null,
      "outputs": []
    },
    {
      "cell_type": "code",
      "execution_count": null,
      "metadata": {
        "id": "itZBW5vBut3q",
        "colab": {
          "base_uri": "https://localhost:8080/"
        },
        "outputId": "7a2a16b3-aad0-4c67-aba8-4bcd2f25dd54"
      },
      "outputs": [
        {
          "output_type": "stream",
          "name": "stdout",
          "text": [
            "Epoch 1/15\n",
            "143/143 [==============================] - 7s 35ms/step - loss: 0.7275 - categorical_accuracy: 0.7170\n",
            "Epoch 2/15\n",
            "143/143 [==============================] - 4s 25ms/step - loss: 0.3868 - categorical_accuracy: 0.8674\n",
            "Epoch 3/15\n",
            "143/143 [==============================] - 4s 25ms/step - loss: 0.3148 - categorical_accuracy: 0.8923\n",
            "Epoch 4/15\n",
            "143/143 [==============================] - 5s 34ms/step - loss: 0.2309 - categorical_accuracy: 0.9234\n",
            "Epoch 5/15\n",
            "143/143 [==============================] - 4s 30ms/step - loss: 0.2125 - categorical_accuracy: 0.9234\n",
            "Epoch 6/15\n",
            "143/143 [==============================] - 4s 26ms/step - loss: 0.1613 - categorical_accuracy: 0.9459\n",
            "Epoch 7/15\n",
            "143/143 [==============================] - 4s 25ms/step - loss: 0.1508 - categorical_accuracy: 0.9464\n",
            "Epoch 8/15\n",
            "143/143 [==============================] - 5s 33ms/step - loss: 0.1215 - categorical_accuracy: 0.9584\n",
            "Epoch 9/15\n",
            "143/143 [==============================] - 3s 23ms/step - loss: 0.0922 - categorical_accuracy: 0.9665\n",
            "Epoch 10/15\n",
            "143/143 [==============================] - 3s 23ms/step - loss: 0.0909 - categorical_accuracy: 0.9687\n",
            "Epoch 11/15\n",
            "143/143 [==============================] - 4s 25ms/step - loss: 0.0712 - categorical_accuracy: 0.9750\n",
            "Epoch 12/15\n",
            "143/143 [==============================] - 5s 32ms/step - loss: 0.0535 - categorical_accuracy: 0.9838\n",
            "Epoch 13/15\n",
            "143/143 [==============================] - 3s 24ms/step - loss: 0.0516 - categorical_accuracy: 0.9836\n",
            "Epoch 14/15\n",
            "143/143 [==============================] - 3s 24ms/step - loss: 0.0365 - categorical_accuracy: 0.9880\n",
            "Epoch 15/15\n",
            "143/143 [==============================] - 4s 26ms/step - loss: 0.0933 - categorical_accuracy: 0.9683\n"
          ]
        }
      ],
      "source": [
        "# Train multiple instances of the model with different hyperparameters\n",
        "model1 = MyModel1(layer_1=32, layer_2=64, layer_3=128, layer_4=96, learning_rate=0.0003, activation='relu')\n",
        "model1.train_model(X_train_normalized, y_train_encoded)\n",
        "\n",
        "# Save the model\n",
        "model1.save_model('/content/drive/MyDrive/Colab Notebooks/Deep Learning Applications/models/my_model1.h5')"
      ]
    },
    {
      "cell_type": "code",
      "source": [
        "# Load the model\n",
        "from tensorflow.keras.models import load_model\n",
        "model1 = load_model('/content/drive/MyDrive/Colab Notebooks/Deep Learning Applications/models/my_model1.h5')"
      ],
      "metadata": {
        "id": "5MYEVtFJJp2w"
      },
      "execution_count": null,
      "outputs": []
    },
    {
      "cell_type": "code",
      "source": [
        "\n",
        "model2 = MyModel1(layer_1=64, layer_2=128, layer_3=256, layer_4=512, learning_rate=0.0005, activation='sigmoid')\n",
        "model2.train_model(X_train_normalized, y_train_encoded)\n",
        "\n",
        "# Save the model\n",
        "model2.save_model('/content/drive/MyDrive/Colab Notebooks/Deep Learning Applications/models/my_model2.h5')"
      ],
      "metadata": {
        "id": "a2E9Snmh9sGp",
        "colab": {
          "base_uri": "https://localhost:8080/"
        },
        "outputId": "beb74995-10d2-4122-dc71-d3f5eda53ef4"
      },
      "execution_count": null,
      "outputs": [
        {
          "output_type": "stream",
          "name": "stdout",
          "text": [
            "Epoch 1/15\n",
            "143/143 [==============================] - 11s 64ms/step - loss: 1.3156 - categorical_accuracy: 0.3390\n",
            "Epoch 2/15\n",
            "143/143 [==============================] - 6s 45ms/step - loss: 0.8091 - categorical_accuracy: 0.6654\n",
            "Epoch 3/15\n",
            "143/143 [==============================] - 8s 57ms/step - loss: 0.4640 - categorical_accuracy: 0.8632\n",
            "Epoch 4/15\n",
            "143/143 [==============================] - 7s 46ms/step - loss: 0.3339 - categorical_accuracy: 0.8919\n",
            "Epoch 5/15\n",
            "143/143 [==============================] - 8s 58ms/step - loss: 0.2909 - categorical_accuracy: 0.9059\n",
            "Epoch 6/15\n",
            "143/143 [==============================] - 7s 47ms/step - loss: 0.2538 - categorical_accuracy: 0.9190\n",
            "Epoch 7/15\n",
            "143/143 [==============================] - 8s 56ms/step - loss: 0.1966 - categorical_accuracy: 0.9365\n",
            "Epoch 8/15\n",
            "143/143 [==============================] - 7s 48ms/step - loss: 0.1846 - categorical_accuracy: 0.9392\n",
            "Epoch 9/15\n",
            "143/143 [==============================] - 8s 57ms/step - loss: 0.1546 - categorical_accuracy: 0.9473\n",
            "Epoch 10/15\n",
            "143/143 [==============================] - 7s 49ms/step - loss: 0.1503 - categorical_accuracy: 0.9534\n",
            "Epoch 11/15\n",
            "143/143 [==============================] - 8s 54ms/step - loss: 0.1373 - categorical_accuracy: 0.9551\n",
            "Epoch 12/15\n",
            "143/143 [==============================] - 7s 50ms/step - loss: 0.1125 - categorical_accuracy: 0.9634\n",
            "Epoch 13/15\n",
            "143/143 [==============================] - 8s 54ms/step - loss: 0.0954 - categorical_accuracy: 0.9676\n",
            "Epoch 14/15\n",
            "143/143 [==============================] - 7s 49ms/step - loss: 0.0955 - categorical_accuracy: 0.9683\n",
            "Epoch 15/15\n",
            "143/143 [==============================] - 8s 53ms/step - loss: 0.0742 - categorical_accuracy: 0.9788\n"
          ]
        }
      ]
    },
    {
      "cell_type": "code",
      "source": [
        "# Load the model\n",
        "from tensorflow.keras.models import load_model\n",
        "model2 = load_model('/content/drive/MyDrive/Colab Notebooks/Deep Learning Applications/models/my_model2.h5')"
      ],
      "metadata": {
        "id": "Ds9RBQe6JvO5"
      },
      "execution_count": null,
      "outputs": []
    },
    {
      "cell_type": "code",
      "source": [
        "model3 = MyModel1(layer_1=48, layer_2=64, layer_3=128, layer_4=112, learning_rate=0.0001, activation='LeakyReLU')\n",
        "model3.train_model(X_train_normalized, y_train_encoded)\n",
        "\n",
        "# Save the model\n",
        "model3.save_model('/content/drive/MyDrive/Colab Notebooks/Deep Learning Applications/models/my_model3.h5')"
      ],
      "metadata": {
        "id": "fyTysctG9tzf",
        "colab": {
          "base_uri": "https://localhost:8080/"
        },
        "outputId": "aa67a4d8-9039-40b6-a721-4edbf5fe1bf7"
      },
      "execution_count": null,
      "outputs": [
        {
          "output_type": "stream",
          "name": "stdout",
          "text": [
            "Epoch 1/15\n",
            "143/143 [==============================] - 6s 35ms/step - loss: 0.7767 - categorical_accuracy: 0.7190\n",
            "Epoch 2/15\n",
            "143/143 [==============================] - 5s 33ms/step - loss: 0.3980 - categorical_accuracy: 0.8674\n",
            "Epoch 3/15\n",
            "143/143 [==============================] - 6s 42ms/step - loss: 0.3219 - categorical_accuracy: 0.8912\n",
            "Epoch 4/15\n",
            "143/143 [==============================] - 5s 32ms/step - loss: 0.2504 - categorical_accuracy: 0.9155\n",
            "Epoch 5/15\n",
            "143/143 [==============================] - 5s 32ms/step - loss: 0.2240 - categorical_accuracy: 0.9221\n",
            "Epoch 6/15\n",
            "143/143 [==============================] - 6s 42ms/step - loss: 0.1947 - categorical_accuracy: 0.9328\n",
            "Epoch 7/15\n",
            "143/143 [==============================] - 5s 37ms/step - loss: 0.1566 - categorical_accuracy: 0.9488\n",
            "Epoch 8/15\n",
            "143/143 [==============================] - 6s 40ms/step - loss: 0.1371 - categorical_accuracy: 0.9549\n",
            "Epoch 9/15\n",
            "143/143 [==============================] - 5s 38ms/step - loss: 0.1046 - categorical_accuracy: 0.9652\n",
            "Epoch 10/15\n",
            "143/143 [==============================] - 5s 32ms/step - loss: 0.0883 - categorical_accuracy: 0.9731\n",
            "Epoch 11/15\n",
            "143/143 [==============================] - 5s 36ms/step - loss: 0.0837 - categorical_accuracy: 0.9707\n",
            "Epoch 12/15\n",
            "143/143 [==============================] - 5s 37ms/step - loss: 0.0665 - categorical_accuracy: 0.9796\n",
            "Epoch 13/15\n",
            "143/143 [==============================] - 5s 32ms/step - loss: 0.0552 - categorical_accuracy: 0.9840\n",
            "Epoch 14/15\n",
            "143/143 [==============================] - 5s 38ms/step - loss: 0.0495 - categorical_accuracy: 0.9849\n",
            "Epoch 15/15\n",
            "143/143 [==============================] - 5s 35ms/step - loss: 0.0305 - categorical_accuracy: 0.9923\n"
          ]
        }
      ]
    },
    {
      "cell_type": "code",
      "source": [
        "# Load the model\n",
        "from tensorflow.keras.models import load_model\n",
        "model3 = load_model('/content/drive/MyDrive/Colab Notebooks/Deep Learning Applications/models/my_model3.h5')"
      ],
      "metadata": {
        "id": "6SKgX2HtJ3wb"
      },
      "execution_count": null,
      "outputs": []
    },
    {
      "cell_type": "code",
      "source": [
        "# Create the ensemble model\n",
        "ensemble_model = EnsembleModel()\n",
        "ensemble_model.add_model(model1)\n",
        "ensemble_model.add_model(model2)\n",
        "ensemble_model.add_model(model3)\n",
        "\n",
        "# Generate predictions for the test set using the ensemble model\n",
        "ensemble_preds = ensemble_model.predict_on_batch(X_test_normalized)\n",
        "\n",
        "# Evaluate the performance of the ensemble predictions\n",
        "ensemble_acc = tf.keras.metrics.CategoricalAccuracy()(y_test_encoded, ensemble_preds).numpy()\n",
        "print(f\"Ensemble accuracy: {ensemble_acc:.4f}\")"
      ],
      "metadata": {
        "colab": {
          "base_uri": "https://localhost:8080/"
        },
        "id": "Bz0wlWqIz5w7",
        "outputId": "463cf2d0-46e4-467a-dcf9-1508418fe0f9"
      },
      "execution_count": null,
      "outputs": [
        {
          "output_type": "stream",
          "name": "stdout",
          "text": [
            "Ensemble accuracy: 0.9230\n"
          ]
        }
      ]
    },
    {
      "cell_type": "code",
      "source": [
        "# Calculate the loss on the test set for each individual model in the ensemble\n",
        "model_losses = []\n",
        "for model in ensemble_model.models:\n",
        "    loss, _ = model.evaluate(X_test_normalized, y_test_encoded)\n",
        "    model_losses.append(loss)\n",
        "\n",
        "# Calculate the average loss across all models\n",
        "ensemble_loss = np.mean(model_losses)\n",
        "print(f\"Ensemble loss: {ensemble_loss:.4f}\")"
      ],
      "metadata": {
        "colab": {
          "base_uri": "https://localhost:8080/"
        },
        "id": "q4OyqcQkHeey",
        "outputId": "4c6e1668-f39a-46fa-d90e-a7ee21a54f25"
      },
      "execution_count": null,
      "outputs": [
        {
          "output_type": "stream",
          "name": "stdout",
          "text": [
            "36/36 [==============================] - 0s 10ms/step - loss: 0.3441 - categorical_accuracy: 0.9073\n",
            "36/36 [==============================] - 1s 15ms/step - loss: 0.2963 - categorical_accuracy: 0.9125\n",
            "36/36 [==============================] - 0s 9ms/step - loss: 0.2739 - categorical_accuracy: 0.9265\n",
            "Ensemble loss: 0.3048\n"
          ]
        }
      ]
    },
    {
      "cell_type": "code",
      "source": [
        "print(model1.summary())"
      ],
      "metadata": {
        "colab": {
          "base_uri": "https://localhost:8080/"
        },
        "id": "GqatdBG_Fxia",
        "outputId": "35ce0d24-5b5c-4636-9ab6-e84f1ed7bc0f"
      },
      "execution_count": null,
      "outputs": [
        {
          "output_type": "stream",
          "name": "stdout",
          "text": [
            "Model: \"sequential\"\n",
            "_________________________________________________________________\n",
            " Layer (type)                Output Shape              Param #   \n",
            "=================================================================\n",
            " flatten (Flatten)           (None, 49152)             0         \n",
            "                                                                 \n",
            " dense (Dense)               (None, 32)                1572896   \n",
            "                                                                 \n",
            " dense_1 (Dense)             (None, 64)                2112      \n",
            "                                                                 \n",
            " dense_2 (Dense)             (None, 128)               8320      \n",
            "                                                                 \n",
            " dense_3 (Dense)             (None, 96)                12384     \n",
            "                                                                 \n",
            " dense_4 (Dense)             (None, 4)                 388       \n",
            "                                                                 \n",
            "=================================================================\n",
            "Total params: 1,596,100\n",
            "Trainable params: 1,596,100\n",
            "Non-trainable params: 0\n",
            "_________________________________________________________________\n",
            "None\n"
          ]
        }
      ]
    },
    {
      "cell_type": "markdown",
      "source": [
        "# K-fold cross-validation"
      ],
      "metadata": {
        "id": "AUYw80DG2Xm8"
      }
    },
    {
      "cell_type": "code",
      "source": [
        "import numpy as np\n",
        "from sklearn.model_selection import KFold\n",
        "\n",
        "# Define the K-fold cross-validation splits\n",
        "kfold_splits = 5\n",
        "kfold = KFold(n_splits=kfold_splits, shuffle=True, random_state=42)\n",
        "\n",
        "# Define the hyperparameters for your model\n",
        "epochs = 10\n",
        "\n",
        "# Create an instance of your model\n",
        "my_model = MyModel1(layer_1=128, layer_2=64, layer_3=32, layer_4=16, learning_rate=0.0003, activation='relu')\n",
        "\n",
        "# Reshape X_train_normalized and X_test_normalized to match the input shape of the model\n",
        "X_train_normalized = X_train_normalized.reshape(-1, img_size, img_size, 3)\n",
        "X_test_normalized = X_test_normalized.reshape(-1, img_size, img_size, 3)\n",
        "\n",
        "# Train and evaluate the model using K-fold cross-validation\n",
        "for fold_index, (train_indices, test_indices) in enumerate(kfold.split(X_train_normalized)):\n",
        "    print(f\"Fold {fold_index+1}\")\n",
        "    X_train_kfold, X_test_kfold = X_train_normalized[train_indices], X_train_normalized[test_indices]\n",
        "    y_train_kfold, y_test_kfold = y_train_encoded[train_indices], y_train_encoded[test_indices]\n",
        "    my_model.train_model(X_train_kfold, y_train_kfold, epochs=epochs)\n",
        "    test_loss, test_accuracy = my_model.evaluate(X_test_normalized, y_test_encoded)\n",
        "    print(f\"Test loss: {test_loss}, Test accuracy: {test_accuracy}\")"
      ],
      "metadata": {
        "id": "u3X1A6cF2a4S"
      },
      "execution_count": null,
      "outputs": []
    },
    {
      "cell_type": "code",
      "source": [
        "# Save the model\n",
        "my_model.save_model('/content/drive/MyDrive/Colab Notebooks/Deep Learning Applications/models/kf_model.h5')"
      ],
      "metadata": {
        "id": "_y880y5gHQDj"
      },
      "execution_count": null,
      "outputs": []
    },
    {
      "cell_type": "code",
      "source": [
        "# Load the model\n",
        "from tensorflow.keras.models import load_model\n",
        "model_kf = load_model('/content/drive/MyDrive/Colab Notebooks/Deep Learning Applications/models/kf_model.h5')"
      ],
      "metadata": {
        "id": "nJompEQk57P9"
      },
      "execution_count": null,
      "outputs": []
    },
    {
      "cell_type": "code",
      "source": [
        "# Evaluate the model on the entire test set\n",
        "test_loss, test_accuracy = model_kf.evaluate(X_test_normalized, y_test_encoded)\n",
        "print(f\"Overall test loss: {test_loss}, Overall test accuracy: {test_accuracy}\")"
      ],
      "metadata": {
        "colab": {
          "base_uri": "https://localhost:8080/"
        },
        "id": "mK-vtpP8IGeg",
        "outputId": "0ed51e0e-79eb-4ab9-8153-b98f1bfd90a5"
      },
      "execution_count": null,
      "outputs": [
        {
          "output_type": "stream",
          "name": "stdout",
          "text": [
            "36/36 [==============================] - 2s 25ms/step - loss: 0.3838 - categorical_accuracy: 0.9291\n",
            "Overall test loss: 0.38378530740737915, Overall test accuracy: 0.9291338324546814\n"
          ]
        }
      ]
    },
    {
      "cell_type": "markdown",
      "metadata": {
        "id": "tI5rWbIXaqcC"
      },
      "source": [
        "# Using VGG16 pretrained model"
      ]
    },
    {
      "cell_type": "code",
      "execution_count": null,
      "metadata": {
        "id": "bBQEqJ9HpadV"
      },
      "outputs": [],
      "source": [
        "import random\n",
        "from PIL import Image, ImageEnhance\n",
        "from tensorflow.keras.preprocessing.image import load_img\n",
        "\n",
        "# Get a list of the unique labels in the training directory\n",
        "unique_labels = os.listdir(train_dir)\n",
        "\n",
        "def augment_image(image):\n",
        "    image = Image.fromarray(np.uint8(image))\n",
        "    image = ImageEnhance.Brightness(image).enhance(random.uniform(0.8,1.2))\n",
        "    image = ImageEnhance.Contrast(image).enhance(random.uniform(0.8,1.2))\n",
        "    image = np.array(image)/255.0\n",
        "    return image\n",
        "\n",
        "def open_images(paths):\n",
        "    images = []\n",
        "    for path in paths:\n",
        "        image = load_img(path, target_size=(img_size,img_size))\n",
        "        image = augment_image(image)\n",
        "        images.append(image)\n",
        "    return np.array(images)\n",
        "\n",
        "# Function to encode labels as integers\n",
        "def encode_label(labels):\n",
        "    encoded = []\n",
        "    for x in labels:\n",
        "        encoded.append(unique_labels.index(x))\n",
        "    return np.array(encoded)\n",
        "\n",
        "# Function to decode labels from integers back to original labels\n",
        "def decode_label(labels):\n",
        "    decoded = []\n",
        "    for x in labels:\n",
        "        decoded.append(unique_labels[x])\n",
        "    return np.array(decoded)\n",
        "\n",
        "# Function to generate batches of data for training\n",
        "def datagen(paths, labels, batch_size=12, epochs=1):\n",
        "    # Loop over the number of epochs\n",
        "    for _ in range(epochs):\n",
        "        # Loop over the paths in batches\n",
        "        for x in range(0, len(paths), batch_size):\n",
        "            # Get a batch of paths, images, and labels\n",
        "            batch_paths = paths[x:x+batch_size]\n",
        "            batch_images = open_images(batch_paths)\n",
        "            batch_labels = labels[x:x+batch_size]\n",
        "            # Encode the labels as integers\n",
        "            batch_labels = encode_label(batch_labels)\n",
        "            # Yield the batch of images and labels\n",
        "            yield batch_images, batch_labels"
      ]
    },
    {
      "cell_type": "code",
      "execution_count": null,
      "metadata": {
        "id": "BxE3tWVoa1zf",
        "colab": {
          "base_uri": "https://localhost:8080/"
        },
        "outputId": "70818455-9a99-49d0-863b-08e1abbd3847"
      },
      "outputs": [
        {
          "output_type": "stream",
          "name": "stdout",
          "text": [
            "Model: \"sequential\"\n",
            "_________________________________________________________________\n",
            " Layer (type)                Output Shape              Param #   \n",
            "=================================================================\n",
            " vgg16 (Functional)          (None, 4, 4, 512)         14714688  \n",
            "                                                                 \n",
            " flatten (Flatten)           (None, 8192)              0         \n",
            "                                                                 \n",
            " dropout (Dropout)           (None, 8192)              0         \n",
            "                                                                 \n",
            " dense (Dense)               (None, 128)               1048704   \n",
            "                                                                 \n",
            " dropout_1 (Dropout)         (None, 128)               0         \n",
            "                                                                 \n",
            " dense_1 (Dense)             (None, 4)                 516       \n",
            "                                                                 \n",
            "=================================================================\n",
            "Total params: 15,763,908\n",
            "Trainable params: 8,128,644\n",
            "Non-trainable params: 7,635,264\n",
            "_________________________________________________________________\n"
          ]
        }
      ],
      "source": [
        "from tensorflow.keras.optimizers import Adam\n",
        "from tensorflow.keras.applications import VGG16\n",
        "from tensorflow.keras.layers import Input, Flatten, Dropout, Dense\n",
        "from tensorflow.keras.models import Sequential\n",
        "\n",
        "image_size = 128\n",
        "\n",
        "class VGG:\n",
        "    def __init__(self, input_shape, unique_labels):\n",
        "        self.base_model = self._build_base_model(input_shape)\n",
        "        self._set_trainable_layers()\n",
        "        self.model = self._build_model(unique_labels)\n",
        "\n",
        "    def _build_base_model(self, input_shape):\n",
        "        base_model = VGG16(input_shape=input_shape, include_top=False, weights='imagenet')\n",
        "        return base_model\n",
        "\n",
        "    def _set_trainable_layers(self):\n",
        "        for layer in self.base_model.layers:\n",
        "            layer.trainable = False\n",
        "        self.base_model.layers[-2].trainable = True\n",
        "        self.base_model.layers[-3].trainable = True\n",
        "        self.base_model.layers[-4].trainable = True\n",
        "\n",
        "    def _build_model(self, unique_labels):\n",
        "        \n",
        "        model = Sequential()\n",
        "        model.add(Input(shape=input_shape))\n",
        "        model.add(self.base_model)\n",
        "        model.add(Flatten())\n",
        "        model.add(Dropout(0.3))\n",
        "        model.add(Dense(128, activation='relu'))\n",
        "        model.add(Dropout(0.2))\n",
        "        model.add(Dense(len(unique_labels), activation='softmax'))\n",
        "\n",
        "        model.compile(optimizer=Adam(learning_rate=0.0001),\n",
        "             loss='sparse_categorical_crossentropy',\n",
        "             metrics=['sparse_categorical_accuracy'])\n",
        "        \n",
        "        return model\n",
        "\n",
        "if __name__ == '__main__':\n",
        "  input_shape = (image_size, image_size, 3)\n",
        "  vgg = VGG(input_shape=input_shape, unique_labels=unique_labels)\n",
        "  vgg.model.summary()"
      ]
    },
    {
      "cell_type": "code",
      "execution_count": null,
      "metadata": {
        "id": "CG8n-tlAa9rl"
      },
      "outputs": [],
      "source": [
        "batch_size = 32\n",
        "steps = int(len(train_paths)/batch_size)\n",
        "epochs = 5\n",
        "history_vgg = vgg.model.fit(datagen(train_paths, train_labels, batch_size=batch_size, epochs=epochs),\n",
        "                    epochs=epochs, steps_per_epoch=steps)"
      ]
    },
    {
      "cell_type": "code",
      "execution_count": null,
      "metadata": {
        "id": "5ZQ8i5YubC-t"
      },
      "outputs": [],
      "source": [
        "# Save the model\n",
        "vgg.model.save('/content/drive/MyDrive/Colab Notebooks/Deep Learning Applications/models/model_vgg.h5')"
      ]
    },
    {
      "cell_type": "code",
      "execution_count": null,
      "metadata": {
        "id": "EJqeNEb3baq-",
        "colab": {
          "base_uri": "https://localhost:8080/"
        },
        "outputId": "d94bbf65-3899-4962-ece5-783c9c7ab5eb"
      },
      "outputs": [
        {
          "output_type": "stream",
          "name": "stdout",
          "text": [
            "Epoch 1/5\n",
            "178/178 [==============================] - 1404s 8s/step - loss: 0.4481 - sparse_categorical_accuracy: 0.8269\n",
            "Epoch 2/5\n",
            "178/178 [==============================] - 1375s 8s/step - loss: 0.2301 - sparse_categorical_accuracy: 0.9160\n",
            "Epoch 3/5\n",
            "178/178 [==============================] - 1392s 8s/step - loss: 0.1527 - sparse_categorical_accuracy: 0.9415\n",
            "Epoch 4/5\n",
            "178/178 [==============================] - 1371s 8s/step - loss: 0.1073 - sparse_categorical_accuracy: 0.9618\n",
            "Epoch 5/5\n",
            "178/178 [==============================] - 1354s 8s/step - loss: 0.0813 - sparse_categorical_accuracy: 0.9718\n"
          ]
        }
      ],
      "source": [
        "# Load the model\n",
        "from tensorflow.keras.models import load_model\n",
        "model = load_model('/content/drive/MyDrive/Colab Notebooks/Deep Learning Applications/models/model_vgg.h5')\n",
        "\n",
        "\n",
        "batch_size = 32\n",
        "steps = int(len(train_paths)/batch_size)\n",
        "epochs = 5\n",
        "history_vgg = vgg.model.fit(datagen(train_paths, train_labels, batch_size=batch_size, epochs=epochs),\n",
        "                    epochs=epochs, steps_per_epoch=steps)"
      ]
    },
    {
      "cell_type": "code",
      "source": [
        "loss = history_vgg.history['loss'][-1]\n",
        "accuracy = history_vgg.history['sparse_categorical_accuracy'][-1]"
      ],
      "metadata": {
        "id": "mIoS9p6ZIh7_"
      },
      "execution_count": null,
      "outputs": []
    },
    {
      "cell_type": "code",
      "source": [
        "loss"
      ],
      "metadata": {
        "colab": {
          "base_uri": "https://localhost:8080/"
        },
        "id": "HCF7wO4KnVuM",
        "outputId": "f2cbd962-9b5d-47b4-f8ba-d13e221e55e8"
      },
      "execution_count": null,
      "outputs": [
        {
          "output_type": "execute_result",
          "data": {
            "text/plain": [
              "0.08133133500814438"
            ]
          },
          "metadata": {},
          "execution_count": 39
        }
      ]
    },
    {
      "cell_type": "code",
      "source": [
        "accuracy"
      ],
      "metadata": {
        "colab": {
          "base_uri": "https://localhost:8080/"
        },
        "id": "mRWN2GvgnXZU",
        "outputId": "b36da750-7008-493c-bec2-fd10d86f4fb8"
      },
      "execution_count": null,
      "outputs": [
        {
          "output_type": "execute_result",
          "data": {
            "text/plain": [
              "0.9718309640884399"
            ]
          },
          "metadata": {},
          "execution_count": 40
        }
      ]
    },
    {
      "cell_type": "code",
      "execution_count": null,
      "metadata": {
        "id": "lAyt0CV1bfUW",
        "colab": {
          "base_uri": "https://localhost:8080/",
          "height": 410
        },
        "outputId": "2e37bf85-bac9-4e43-91fb-c4868347f662"
      },
      "outputs": [
        {
          "output_type": "display_data",
          "data": {
            "text/plain": [
              "<Figure size 800x400 with 1 Axes>"
            ],
            "image/png": "[encoded data removed]"
          },
          "metadata": {}
        }
      ],
      "source": [
        "import matplotlib.pyplot as plt\n",
        "\n",
        "plt.figure(figsize=(8,4))\n",
        "plt.grid(True)\n",
        "plt.plot(history_vgg.history['sparse_categorical_accuracy'], '.g-', linewidth=2)\n",
        "plt.plot(history_vgg.history['loss'], '.r-', linewidth=2)\n",
        "plt.title('Model Training History')\n",
        "plt.xlabel('epoch')\n",
        "plt.xticks([x for x in range(epochs)])\n",
        "plt.legend(['Accuracy', 'Loss'], loc='upper left', bbox_to_anchor=(1, 1))\n",
        "plt.show()"
      ]
    },
    {
      "cell_type": "markdown",
      "source": [
        "# Using Resnet 50 pretrained model"
      ],
      "metadata": {
        "id": "ZLrFIaopgyyr"
      }
    },
    {
      "cell_type": "code",
      "source": [
        "from keras.applications import ResNet50V2\n",
        "from keras.layers import Dense, Conv2D, MaxPooling2D, Flatten, GlobalAveragePooling2D as GAP\n",
        "from keras.models import Sequential\n",
        "\n",
        "# defining the base pre-trained model\n",
        "base_model = ResNet50V2(input_shape=(img_size, img_size, 3), include_top=False)\n",
        "base_model.trainable = False\n",
        "\n",
        "# defining our model\n",
        "name = \"ResNet50V2\"\n",
        "resnet = Sequential([\n",
        "    base_model, \n",
        "    GAP(),\n",
        "    Dense(256, activation='relu', kernel_initializer='he_normal'),\n",
        "    Dense(len(unique_labels), activation='softmax'),\n",
        "], name=name)\n",
        "\n",
        "# compiling model\n",
        "resnet.compile(loss='sparse_categorical_crossentropy', optimizer='adam', metrics=['accuracy'])"
      ],
      "metadata": {
        "id": "QfGg8Ylfge0t"
      },
      "execution_count": null,
      "outputs": []
    },
    {
      "cell_type": "code",
      "source": [
        "batch_size = 45\n",
        "steps = int(len(train_paths)/batch_size)\n",
        "epochs = 5"
      ],
      "metadata": {
        "id": "Uouk8v9U6n9s"
      },
      "execution_count": null,
      "outputs": []
    },
    {
      "cell_type": "code",
      "source": [
        "# training model\n",
        "history_resnet = resnet.fit(datagen(train_paths, train_labels, batch_size=batch_size, epochs=epochs),\n",
        "                     epochs=epochs, steps_per_epoch=steps)"
      ],
      "metadata": {
        "id": "g4WcGDSMyPHt",
        "colab": {
          "base_uri": "https://localhost:8080/"
        },
        "outputId": "984fbd3c-e455-45ba-c8e9-e1311475b512"
      },
      "execution_count": null,
      "outputs": [
        {
          "output_type": "stream",
          "name": "stdout",
          "text": [
            "Epoch 1/5\n",
            "126/126 [==============================] - 336s 3s/step - loss: 0.5158 - accuracy: 0.8277\n",
            "Epoch 2/5\n",
            "126/126 [==============================] - 328s 3s/step - loss: 0.2517 - accuracy: 0.9065\n",
            "Epoch 3/5\n",
            "126/126 [==============================] - 333s 3s/step - loss: 0.1708 - accuracy: 0.9365\n",
            "Epoch 4/5\n",
            "126/126 [==============================] - 333s 3s/step - loss: 0.1224 - accuracy: 0.9566\n",
            "Epoch 5/5\n",
            "126/126 [==============================] - 330s 3s/step - loss: 0.1014 - accuracy: 0.9633\n"
          ]
        }
      ]
    },
    {
      "cell_type": "code",
      "source": [
        "# Save the model\n",
        "resnet.save('/content/drive/MyDrive/Colab Notebooks/Deep Learning Applications/models/model_resnet.h5')"
      ],
      "metadata": {
        "id": "an7BRctYmk0T"
      },
      "execution_count": null,
      "outputs": []
    },
    {
      "cell_type": "code",
      "source": [
        "# Load the model\n",
        "from tensorflow.keras.models import load_model\n",
        "model = load_model('/content/drive/MyDrive/Colab Notebooks/Deep Learning Applications/models/model_resnet.h5')\n",
        "\n",
        "# # training model\n",
        "# history = resnet.fit(datagen(train_paths, train_labels, batch_size=batch_size, epochs=epochs),\n",
        "#                      epochs=epochs, steps_per_epoch=steps)"
      ],
      "metadata": {
        "id": "fQrnhtWpqRA8"
      },
      "execution_count": null,
      "outputs": []
    },
    {
      "cell_type": "code",
      "source": [
        "loss = history_resnet.history['loss'][-1]\n",
        "accuracy = history_resnet.history['accuracy'][-1]"
      ],
      "metadata": {
        "id": "POmNozyloOIk"
      },
      "execution_count": null,
      "outputs": []
    },
    {
      "cell_type": "code",
      "source": [
        "loss"
      ],
      "metadata": {
        "colab": {
          "base_uri": "https://localhost:8080/"
        },
        "id": "ax_A7XGawdBv",
        "outputId": "7b47f052-ce29-45b7-85ec-f06c65cb2a93"
      },
      "execution_count": null,
      "outputs": [
        {
          "output_type": "execute_result",
          "data": {
            "text/plain": [
              "0.10138130933046341"
            ]
          },
          "metadata": {},
          "execution_count": 68
        }
      ]
    },
    {
      "cell_type": "code",
      "source": [
        "accuracy"
      ],
      "metadata": {
        "colab": {
          "base_uri": "https://localhost:8080/"
        },
        "id": "meoI6WO9weNZ",
        "outputId": "ef3ea30d-40d5-4d98-d323-a573c9fef30f"
      },
      "execution_count": null,
      "outputs": [
        {
          "output_type": "execute_result",
          "data": {
            "text/plain": [
              "0.9632962942123413"
            ]
          },
          "metadata": {},
          "execution_count": 69
        }
      ]
    },
    {
      "cell_type": "code",
      "source": [
        "import matplotlib.pyplot as plt\n",
        "\n",
        "plt.figure(figsize=(8,4))\n",
        "plt.grid(True)\n",
        "plt.plot(history_resnet.history['accuracy'], '.g-', linewidth=2)\n",
        "plt.plot(history_resnet.history['loss'], '.r-', linewidth=2)\n",
        "plt.title('Model Training History')\n",
        "plt.xlabel('epoch')\n",
        "plt.xticks([x for x in range(epochs)])\n",
        "plt.legend(['Accuracy', 'Loss'], loc='upper left', bbox_to_anchor=(1, 1))\n",
        "plt.show()"
      ],
      "metadata": {
        "id": "zan4uiMymq16",
        "colab": {
          "base_uri": "https://localhost:8080/",
          "height": 410
        },
        "outputId": "0b1c242b-589b-4717-dc39-c18f958f8ade"
      },
      "execution_count": null,
      "outputs": [
        {
          "output_type": "display_data",
          "data": {
            "text/plain": [
              "<Figure size 800x400 with 1 Axes>"
            ],
            "image/png": "[encoded data removed]"
          },
          "metadata": {}
        }
      ]
    }
  ],
  "metadata": {
    "colab": {
      "provenance": []
    },
    "kernelspec": {
      "display_name": "Python 3",
      "name": "python3"
    },
    "language_info": {
      "name": "python"
    }
  },
  "nbformat": 4,
  "nbformat_minor": 0
}